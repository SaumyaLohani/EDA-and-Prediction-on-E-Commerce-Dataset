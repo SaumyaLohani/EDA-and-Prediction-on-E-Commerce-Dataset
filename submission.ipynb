{
 "cells": [
  {
   "cell_type": "code",
   "execution_count": 1,
   "id": "84f81d65",
   "metadata": {},
   "outputs": [],
   "source": [
    "import pandas as pd\n",
    "import numpy as np\n",
    "import matplotlib.pyplot as plt\n",
    "import seaborn as sns\n",
    "sns.set()"
   ]
  },
  {
   "cell_type": "code",
   "execution_count": 2,
   "id": "7e9cb59c",
   "metadata": {},
   "outputs": [
    {
     "data": {
      "text/html": [
       "<div>\n",
       "<style scoped>\n",
       "    .dataframe tbody tr th:only-of-type {\n",
       "        vertical-align: middle;\n",
       "    }\n",
       "\n",
       "    .dataframe tbody tr th {\n",
       "        vertical-align: top;\n",
       "    }\n",
       "\n",
       "    .dataframe thead th {\n",
       "        text-align: right;\n",
       "    }\n",
       "</style>\n",
       "<table border=\"1\" class=\"dataframe\">\n",
       "  <thead>\n",
       "    <tr style=\"text-align: right;\">\n",
       "      <th></th>\n",
       "      <th>Timestamp</th>\n",
       "      <th>Age</th>\n",
       "      <th>Gender</th>\n",
       "      <th>State</th>\n",
       "      <th>City</th>\n",
       "      <th>Product Category</th>\n",
       "    </tr>\n",
       "  </thead>\n",
       "  <tbody>\n",
       "    <tr>\n",
       "      <th>0</th>\n",
       "      <td>7-22-2021 22:25:53</td>\n",
       "      <td>12</td>\n",
       "      <td>Female</td>\n",
       "      <td>Karnataka</td>\n",
       "      <td>Tier 2</td>\n",
       "      <td>pTron Light Earphones</td>\n",
       "    </tr>\n",
       "    <tr>\n",
       "      <th>1</th>\n",
       "      <td>7-22-2021 22:26:04</td>\n",
       "      <td>15</td>\n",
       "      <td>Male</td>\n",
       "      <td>Jammu and Kashmir</td>\n",
       "      <td>Tier 3</td>\n",
       "      <td>Sunglasses</td>\n",
       "    </tr>\n",
       "    <tr>\n",
       "      <th>2</th>\n",
       "      <td>7-22-2021 22:26:08</td>\n",
       "      <td>22</td>\n",
       "      <td>Male</td>\n",
       "      <td>Jammu and Kashmir</td>\n",
       "      <td>Tier 2</td>\n",
       "      <td>Color Fit Pro Smartwatch</td>\n",
       "    </tr>\n",
       "    <tr>\n",
       "      <th>3</th>\n",
       "      <td>7-22-2021 22:26:23</td>\n",
       "      <td>48</td>\n",
       "      <td>Female</td>\n",
       "      <td>Manipur</td>\n",
       "      <td>Tier 1</td>\n",
       "      <td>Color Fit Pro Smartwatch</td>\n",
       "    </tr>\n",
       "    <tr>\n",
       "      <th>4</th>\n",
       "      <td>7-22-2021 22:26:34</td>\n",
       "      <td>20</td>\n",
       "      <td>Male</td>\n",
       "      <td>Manipur</td>\n",
       "      <td>Tier 2</td>\n",
       "      <td>Fogg Perfume for Men</td>\n",
       "    </tr>\n",
       "  </tbody>\n",
       "</table>\n",
       "</div>"
      ],
      "text/plain": [
       "            Timestamp  Age  Gender              State    City  \\\n",
       "0  7-22-2021 22:25:53   12  Female          Karnataka  Tier 2   \n",
       "1  7-22-2021 22:26:04   15    Male  Jammu and Kashmir  Tier 3   \n",
       "2  7-22-2021 22:26:08   22    Male  Jammu and Kashmir  Tier 2   \n",
       "3  7-22-2021 22:26:23   48  Female            Manipur  Tier 1   \n",
       "4  7-22-2021 22:26:34   20    Male            Manipur  Tier 2   \n",
       "\n",
       "           Product Category  \n",
       "0     pTron Light Earphones  \n",
       "1                Sunglasses  \n",
       "2  Color Fit Pro Smartwatch  \n",
       "3  Color Fit Pro Smartwatch  \n",
       "4      Fogg Perfume for Men  "
      ]
     },
     "execution_count": 2,
     "metadata": {},
     "output_type": "execute_result"
    }
   ],
   "source": [
    "data=pd.read_csv(r'dataset1.csv')\n",
    "data.head()"
   ]
  },
  {
   "cell_type": "code",
   "execution_count": 3,
   "id": "887063d7",
   "metadata": {},
   "outputs": [],
   "source": [
    "data.drop(['Timestamp'],axis=1,inplace=True)"
   ]
  },
  {
   "cell_type": "code",
   "execution_count": 4,
   "id": "8bb0e435",
   "metadata": {},
   "outputs": [
    {
     "data": {
      "text/html": [
       "<div>\n",
       "<style scoped>\n",
       "    .dataframe tbody tr th:only-of-type {\n",
       "        vertical-align: middle;\n",
       "    }\n",
       "\n",
       "    .dataframe tbody tr th {\n",
       "        vertical-align: top;\n",
       "    }\n",
       "\n",
       "    .dataframe thead th {\n",
       "        text-align: right;\n",
       "    }\n",
       "</style>\n",
       "<table border=\"1\" class=\"dataframe\">\n",
       "  <thead>\n",
       "    <tr style=\"text-align: right;\">\n",
       "      <th></th>\n",
       "      <th>Age</th>\n",
       "      <th>Gender</th>\n",
       "      <th>State</th>\n",
       "      <th>City</th>\n",
       "      <th>Product Category</th>\n",
       "    </tr>\n",
       "  </thead>\n",
       "  <tbody>\n",
       "    <tr>\n",
       "      <th>0</th>\n",
       "      <td>12</td>\n",
       "      <td>Female</td>\n",
       "      <td>Karnataka</td>\n",
       "      <td>Tier 2</td>\n",
       "      <td>pTron Light Earphones</td>\n",
       "    </tr>\n",
       "    <tr>\n",
       "      <th>1</th>\n",
       "      <td>15</td>\n",
       "      <td>Male</td>\n",
       "      <td>Jammu and Kashmir</td>\n",
       "      <td>Tier 3</td>\n",
       "      <td>Sunglasses</td>\n",
       "    </tr>\n",
       "    <tr>\n",
       "      <th>2</th>\n",
       "      <td>22</td>\n",
       "      <td>Male</td>\n",
       "      <td>Jammu and Kashmir</td>\n",
       "      <td>Tier 2</td>\n",
       "      <td>Color Fit Pro Smartwatch</td>\n",
       "    </tr>\n",
       "    <tr>\n",
       "      <th>3</th>\n",
       "      <td>48</td>\n",
       "      <td>Female</td>\n",
       "      <td>Manipur</td>\n",
       "      <td>Tier 1</td>\n",
       "      <td>Color Fit Pro Smartwatch</td>\n",
       "    </tr>\n",
       "    <tr>\n",
       "      <th>4</th>\n",
       "      <td>20</td>\n",
       "      <td>Male</td>\n",
       "      <td>Manipur</td>\n",
       "      <td>Tier 2</td>\n",
       "      <td>Fogg Perfume for Men</td>\n",
       "    </tr>\n",
       "  </tbody>\n",
       "</table>\n",
       "</div>"
      ],
      "text/plain": [
       "   Age  Gender              State    City          Product Category\n",
       "0   12  Female          Karnataka  Tier 2     pTron Light Earphones\n",
       "1   15    Male  Jammu and Kashmir  Tier 3                Sunglasses\n",
       "2   22    Male  Jammu and Kashmir  Tier 2  Color Fit Pro Smartwatch\n",
       "3   48  Female            Manipur  Tier 1  Color Fit Pro Smartwatch\n",
       "4   20    Male            Manipur  Tier 2      Fogg Perfume for Men"
      ]
     },
     "execution_count": 4,
     "metadata": {},
     "output_type": "execute_result"
    }
   ],
   "source": [
    "data.head()"
   ]
  },
  {
   "cell_type": "code",
   "execution_count": 5,
   "id": "386aa534",
   "metadata": {},
   "outputs": [
    {
     "name": "stdout",
     "output_type": "stream",
     "text": [
      "<class 'pandas.core.frame.DataFrame'>\n",
      "RangeIndex: 250 entries, 0 to 249\n",
      "Data columns (total 5 columns):\n",
      " #   Column            Non-Null Count  Dtype \n",
      "---  ------            --------------  ----- \n",
      " 0   Age               250 non-null    int64 \n",
      " 1   Gender            250 non-null    object\n",
      " 2   State             250 non-null    object\n",
      " 3   City              250 non-null    object\n",
      " 4   Product Category  250 non-null    object\n",
      "dtypes: int64(1), object(4)\n",
      "memory usage: 9.9+ KB\n"
     ]
    }
   ],
   "source": [
    "data.info()"
   ]
  },
  {
   "cell_type": "code",
   "execution_count": 6,
   "id": "7a81c61b",
   "metadata": {},
   "outputs": [],
   "source": [
    "data=data.rename(columns={'Product Category':'Products'})"
   ]
  },
  {
   "cell_type": "code",
   "execution_count": 7,
   "id": "da8a573f",
   "metadata": {},
   "outputs": [],
   "source": [
    "p=data.Products.value_counts()"
   ]
  },
  {
   "cell_type": "code",
   "execution_count": 8,
   "id": "08905e3e",
   "metadata": {},
   "outputs": [],
   "source": [
    "pK=p.keys()\n",
    "pK=np.array(pK)"
   ]
  },
  {
   "cell_type": "code",
   "execution_count": 9,
   "id": "76be4c0f",
   "metadata": {},
   "outputs": [
    {
     "data": {
      "text/plain": [
       "{'Fogg Perfume for Men/Women': 40,\n",
       " 'shoes/sneakers/heels': 31,\n",
       " 'pTron Light Earphones': 28,\n",
       " 'Sunglasses': 26,\n",
       " 'Skincare Products': 22,\n",
       " 'Bracelets': 22,\n",
       " 'Color Fit Pro Smartwatch': 22,\n",
       " 'Wallet / Purse': 22,\n",
       " 'Fire Boltt Headphones': 18,\n",
       " 'Tshirts': 15,\n",
       " 'Fogg Perfume for Men': 4}"
      ]
     },
     "execution_count": 9,
     "metadata": {},
     "output_type": "execute_result"
    }
   ],
   "source": [
    "dict(p)"
   ]
  },
  {
   "cell_type": "code",
   "execution_count": 10,
   "id": "5c539926",
   "metadata": {},
   "outputs": [],
   "source": [
    "pV=[]\n",
    "for i in range(len(p)):\n",
    "    pV.append(p[i])"
   ]
  },
  {
   "cell_type": "code",
   "execution_count": 11,
   "id": "46961511",
   "metadata": {},
   "outputs": [
    {
     "name": "stdout",
     "output_type": "stream",
     "text": [
      "[40, 31, 28, 26, 22, 22, 22, 22, 18, 15, 4]\n"
     ]
    }
   ],
   "source": [
    "print(pV)"
   ]
  },
  {
   "cell_type": "code",
   "execution_count": 12,
   "id": "edfa66be",
   "metadata": {},
   "outputs": [
    {
     "data": {
      "text/plain": [
       "<BarContainer object of 11 artists>"
      ]
     },
     "execution_count": 12,
     "metadata": {},
     "output_type": "execute_result"
    },
    {
     "data": {
      "image/png": "[encoded data removed]",
      "text/plain": [
       "<Figure size 432x288 with 1 Axes>"
      ]
     },
     "metadata": {},
     "output_type": "display_data"
    }
   ],
   "source": [
    "plt.xticks(rotation=90)\n",
    "plt.bar(pK,pV)"
   ]
  },
  {
   "cell_type": "code",
   "execution_count": 13,
   "id": "16e7b51a",
   "metadata": {},
   "outputs": [],
   "source": [
    "p=data['City'].value_counts()\n",
    "pK=p.keys()\n",
    "pK=np.array(pK)\n",
    "dict(p)\n",
    "pV=[]\n",
    "for i in range(len(p)):\n",
    "    pV.append(p[i])"
   ]
  },
  {
   "cell_type": "code",
   "execution_count": 14,
   "id": "942ce183",
   "metadata": {},
   "outputs": [
    {
     "data": {
      "text/plain": [
       "<BarContainer object of 3 artists>"
      ]
     },
     "execution_count": 14,
     "metadata": {},
     "output_type": "execute_result"
    },
    {
     "data": {
      "image/png": "[encoded data removed]",
      "text/plain": [
       "<Figure size 432x288 with 1 Axes>"
      ]
     },
     "metadata": {},
     "output_type": "display_data"
    }
   ],
   "source": [
    "plt.bar(pK,pV)"
   ]
  },
  {
   "cell_type": "code",
   "execution_count": 15,
   "id": "a59e6c58",
   "metadata": {},
   "outputs": [
    {
     "data": {
      "text/plain": [
       "<BarContainer object of 29 artists>"
      ]
     },
     "execution_count": 15,
     "metadata": {},
     "output_type": "execute_result"
    },
    {
     "data": {
      "image/png": "[encoded data removed]",
      "text/plain": [
       "<Figure size 720x576 with 1 Axes>"
      ]
     },
     "metadata": {},
     "output_type": "display_data"
    }
   ],
   "source": [
    "p=data['State'].value_counts()\n",
    "pK=p.keys()\n",
    "pK=np.array(pK)\n",
    "dict(p)\n",
    "pV=[]\n",
    "for i in range(len(p)):\n",
    "    pV.append(p[i])\n",
    "plt.figure(figsize=(10, 8))\n",
    "plt.xticks(rotation=90)\n",
    "plt.bar(pK,pV)"
   ]
  },
  {
   "cell_type": "code",
   "execution_count": 16,
   "id": "be29e5a8",
   "metadata": {},
   "outputs": [
    {
     "name": "stdout",
     "output_type": "stream",
     "text": [
      "['Uttarakhand' 'Uttar Pradesh' 'Karnataka' 'Goa' 'Bihar'\n",
      " 'Jammu and Kashmir' 'Himachal Pradesh' 'Tripura' 'Haryana' 'Mizoram'\n",
      " 'Meghalaya' 'Gujarat' 'Telangana' 'Tamil Nadu' 'Sikkim' 'Nagaland'\n",
      " 'Manipur' 'West Bengal' 'Punjab' 'Chhattisgarh' 'Arunachal Pradesh'\n",
      " 'Odisha' 'Jharkhand' 'Rajasthan' 'Maharashtra' 'Assam' 'Madhya Pradesh'\n",
      " 'Andhra Pradesh' 'Kerala']\n"
     ]
    }
   ],
   "source": [
    "print(pK)"
   ]
  },
  {
   "cell_type": "code",
   "execution_count": 17,
   "id": "2b0909f9",
   "metadata": {},
   "outputs": [
    {
     "data": {
      "text/plain": [
       "<BarContainer object of 3 artists>"
      ]
     },
     "execution_count": 17,
     "metadata": {},
     "output_type": "execute_result"
    },
    {
     "data": {
      "image/png": "[encoded data removed]",
      "text/plain": [
       "<Figure size 432x288 with 1 Axes>"
      ]
     },
     "metadata": {},
     "output_type": "display_data"
    }
   ],
   "source": [
    "p=data['Gender'].value_counts()\n",
    "pK=p.keys()\n",
    "pK=np.array(pK)\n",
    "dict(p)\n",
    "pV=[]\n",
    "for i in range(len(p)):\n",
    "    pV.append(p[i])\n",
    "plt.xticks(rotation=90)\n",
    "plt.bar(pK,pV)"
   ]
  },
  {
   "cell_type": "code",
   "execution_count": 18,
   "id": "9bcbb132",
   "metadata": {},
   "outputs": [
    {
     "data": {
      "text/plain": [
       "{'whiskers': [<matplotlib.lines.Line2D at 0x165019f0580>,\n",
       "  <matplotlib.lines.Line2D at 0x165019f08e0>],\n",
       " 'caps': [<matplotlib.lines.Line2D at 0x165019f0c40>,\n",
       "  <matplotlib.lines.Line2D at 0x165019f0fa0>],\n",
       " 'boxes': [<matplotlib.lines.Line2D at 0x165019f0220>],\n",
       " 'medians': [<matplotlib.lines.Line2D at 0x165019fc340>],\n",
       " 'fliers': [<matplotlib.lines.Line2D at 0x165019fc6a0>],\n",
       " 'means': []}"
      ]
     },
     "execution_count": 18,
     "metadata": {},
     "output_type": "execute_result"
    },
    {
     "data": {
      "image/png": "[encoded data removed]",
      "text/plain": [
       "<Figure size 720x576 with 1 Axes>"
      ]
     },
     "metadata": {},
     "output_type": "display_data"
    }
   ],
   "source": [
    "plt.figure(figsize=(10,8))\n",
    "plt.boxplot(data['Age'])"
   ]
  },
  {
   "cell_type": "code",
   "execution_count": 19,
   "id": "a16054d1",
   "metadata": {},
   "outputs": [
    {
     "data": {
      "text/plain": [
       "<matplotlib.collections.PathCollection at 0x16501a44dc0>"
      ]
     },
     "execution_count": 19,
     "metadata": {},
     "output_type": "execute_result"
    },
    {
     "data": {
      "image/png": "[encoded data removed]",
      "text/plain": [
       "<Figure size 720x576 with 1 Axes>"
      ]
     },
     "metadata": {},
     "output_type": "display_data"
    }
   ],
   "source": [
    "plt.figure(figsize=(10, 8))\n",
    "plt.scatter(data['City'],data['Age'])"
   ]
  },
  {
   "cell_type": "code",
   "execution_count": 20,
   "id": "6fcdd665",
   "metadata": {},
   "outputs": [
    {
     "data": {
      "text/plain": [
       "<matplotlib.collections.PathCollection at 0x1650199a460>"
      ]
     },
     "execution_count": 20,
     "metadata": {},
     "output_type": "execute_result"
    },
    {
     "data": {
      "image/png": "[encoded data removed]",
      "text/plain": [
       "<Figure size 720x576 with 1 Axes>"
      ]
     },
     "metadata": {},
     "output_type": "display_data"
    }
   ],
   "source": [
    "plt.figure(figsize=(10, 8))\n",
    "plt.xticks(rotation=90)\n",
    "plt.scatter(data['State'],data['Age'])"
   ]
  },
  {
   "cell_type": "code",
   "execution_count": 21,
   "id": "96f96358",
   "metadata": {},
   "outputs": [
    {
     "data": {
      "text/plain": [
       "<matplotlib.collections.PathCollection at 0x16501a0f4f0>"
      ]
     },
     "execution_count": 21,
     "metadata": {},
     "output_type": "execute_result"
    },
    {
     "data": {
      "image/png": "[encoded data removed]",
      "text/plain": [
       "<Figure size 720x576 with 1 Axes>"
      ]
     },
     "metadata": {},
     "output_type": "display_data"
    }
   ],
   "source": [
    "plt.figure(figsize=(10, 8))\n",
    "plt.xticks(rotation=90)\n",
    "plt.scatter(data['Products'],data['Age'])"
   ]
  },
  {
   "cell_type": "code",
   "execution_count": 22,
   "id": "ee0774f1",
   "metadata": {},
   "outputs": [],
   "source": [
    "from sklearn.preprocessing import LabelEncoder\n",
    "from sklearn.model_selection import train_test_split\n",
    "from sklearn import svm\n",
    "from sklearn.linear_model import SGDClassifier\n",
    "from sklearn.naive_bayes import GaussianNB\n",
    "from sklearn import tree\n",
    "from sklearn.linear_model import LogisticRegression\n",
    "from sklearn.ensemble import GradientBoostingClassifier"
   ]
  },
  {
   "cell_type": "code",
   "execution_count": 23,
   "id": "33e9dde8",
   "metadata": {},
   "outputs": [],
   "source": [
    "le_city=LabelEncoder()\n",
    "le_gender=LabelEncoder()\n",
    "le_state=LabelEncoder()\n",
    "le_y=LabelEncoder()"
   ]
  },
  {
   "cell_type": "code",
   "execution_count": 24,
   "id": "74c7d6e0",
   "metadata": {},
   "outputs": [],
   "source": [
    "y=data[\"Products\"]"
   ]
  },
  {
   "cell_type": "code",
   "execution_count": 25,
   "id": "f884f262",
   "metadata": {},
   "outputs": [],
   "source": [
    "y=np.array(y)"
   ]
  },
  {
   "cell_type": "code",
   "execution_count": 26,
   "id": "5c4324a7",
   "metadata": {},
   "outputs": [],
   "source": [
    "x=data.drop(['Products'],axis=1)"
   ]
  },
  {
   "cell_type": "code",
   "execution_count": 27,
   "id": "7432d4f1",
   "metadata": {},
   "outputs": [],
   "source": [
    "x=np.array(x)"
   ]
  },
  {
   "cell_type": "code",
   "execution_count": 28,
   "id": "a4b9b266",
   "metadata": {},
   "outputs": [],
   "source": [
    "y=le_y.fit_transform(y)"
   ]
  },
  {
   "cell_type": "code",
   "execution_count": 29,
   "id": "f9bbf282",
   "metadata": {},
   "outputs": [],
   "source": [
    "data['Gender']=le_gender.fit_transform(data['Gender'])\n",
    "data['City']=le_gender.fit_transform(data['City'])\n",
    "data['State']=le_gender.fit_transform(data['State'])"
   ]
  },
  {
   "cell_type": "code",
   "execution_count": 30,
   "id": "488ca651",
   "metadata": {},
   "outputs": [],
   "source": [
    "x=data.drop(['Products'],axis=1)\n",
    "x=np.array(x)"
   ]
  },
  {
   "cell_type": "code",
   "execution_count": 31,
   "id": "0407b05b",
   "metadata": {},
   "outputs": [],
   "source": [
    "x_train, x_test, y_train, y_test = train_test_split(x, y, test_size=0.5, random_state=42)"
   ]
  },
  {
   "cell_type": "code",
   "execution_count": 32,
   "id": "20dcabf8",
   "metadata": {},
   "outputs": [],
   "source": [
    "m1 = svm.SVC()\n",
    "m2 = SGDClassifier(loss=\"hinge\", penalty=\"l2\")\n",
    "m3 = GaussianNB()\n",
    "m4 = tree.DecisionTreeClassifier()\n",
    "m5 = GradientBoostingClassifier(n_estimators=100, learning_rate=1.0, max_depth=1, random_state=0)\n",
    "m6 = LogisticRegression(max_iter=200)"
   ]
  },
  {
   "cell_type": "code",
   "execution_count": 45,
   "id": "2ab49d42",
   "metadata": {},
   "outputs": [
    {
     "data": {
      "text/plain": [
       "SVC()"
      ]
     },
     "execution_count": 45,
     "metadata": {},
     "output_type": "execute_result"
    }
   ],
   "source": [
    "m1.fit(x,y)"
   ]
  },
  {
   "cell_type": "code",
   "execution_count": 47,
   "id": "e582b8b1",
   "metadata": {},
   "outputs": [
    {
     "data": {
      "text/plain": [
       "SGDClassifier()"
      ]
     },
     "execution_count": 47,
     "metadata": {},
     "output_type": "execute_result"
    }
   ],
   "source": [
    "m2.fit(x,y)\n"
   ]
  },
  {
   "cell_type": "code",
   "execution_count": 48,
   "id": "a5e82a6a",
   "metadata": {},
   "outputs": [
    {
     "data": {
      "text/plain": [
       "GaussianNB()"
      ]
     },
     "execution_count": 48,
     "metadata": {},
     "output_type": "execute_result"
    }
   ],
   "source": [
    "m3.fit(x,y)\n"
   ]
  },
  {
   "cell_type": "code",
   "execution_count": 50,
   "id": "9a7de17a",
   "metadata": {},
   "outputs": [
    {
     "data": {
      "text/plain": [
       "DecisionTreeClassifier()"
      ]
     },
     "execution_count": 50,
     "metadata": {},
     "output_type": "execute_result"
    }
   ],
   "source": [
    "m4.fit(x,y)\n"
   ]
  },
  {
   "cell_type": "code",
   "execution_count": 52,
   "id": "d22f4710",
   "metadata": {},
   "outputs": [
    {
     "data": {
      "text/plain": [
       "GradientBoostingClassifier(learning_rate=1.0, max_depth=1, random_state=0)"
      ]
     },
     "execution_count": 52,
     "metadata": {},
     "output_type": "execute_result"
    }
   ],
   "source": [
    "m5.fit(x,y)\n"
   ]
  },
  {
   "cell_type": "code",
   "execution_count": 54,
   "id": "a371fd35",
   "metadata": {},
   "outputs": [
    {
     "name": "stderr",
     "output_type": "stream",
     "text": [
      "C:\\Users\\asus\\anaconda3\\lib\\site-packages\\sklearn\\linear_model\\_logistic.py:763: ConvergenceWarning: lbfgs failed to converge (status=1):\n",
      "STOP: TOTAL NO. of ITERATIONS REACHED LIMIT.\n",
      "\n",
      "Increase the number of iterations (max_iter) or scale the data as shown in:\n",
      "    https://scikit-learn.org/stable/modules/preprocessing.html\n",
      "Please also refer to the documentation for alternative solver options:\n",
      "    https://scikit-learn.org/stable/modules/linear_model.html#logistic-regression\n",
      "  n_iter_i = _check_optimize_result(\n"
     ]
    },
    {
     "data": {
      "text/plain": [
       "LogisticRegression(max_iter=200)"
      ]
     },
     "execution_count": 54,
     "metadata": {},
     "output_type": "execute_result"
    }
   ],
   "source": [
    "m6.fit(x,y)"
   ]
  },
  {
   "cell_type": "code",
   "execution_count": 46,
   "id": "6893a11f",
   "metadata": {},
   "outputs": [
    {
     "data": {
      "text/plain": [
       "0.224"
      ]
     },
     "execution_count": 46,
     "metadata": {},
     "output_type": "execute_result"
    }
   ],
   "source": [
    "m1.score(x_test,y_test)"
   ]
  },
  {
   "cell_type": "code",
   "execution_count": 36,
   "id": "04263d1e",
   "metadata": {},
   "outputs": [
    {
     "data": {
      "text/plain": [
       "0.128"
      ]
     },
     "execution_count": 36,
     "metadata": {},
     "output_type": "execute_result"
    }
   ],
   "source": [
    "m2.score(x_test,y_test)"
   ]
  },
  {
   "cell_type": "code",
   "execution_count": 49,
   "id": "f75a0d18",
   "metadata": {},
   "outputs": [
    {
     "data": {
      "text/plain": [
       "0.2"
      ]
     },
     "execution_count": 49,
     "metadata": {},
     "output_type": "execute_result"
    }
   ],
   "source": [
    "m3.score(x_test,y_test)"
   ]
  },
  {
   "cell_type": "code",
   "execution_count": 51,
   "id": "dbbd43cf",
   "metadata": {},
   "outputs": [
    {
     "data": {
      "text/plain": [
       "0.896"
      ]
     },
     "execution_count": 51,
     "metadata": {},
     "output_type": "execute_result"
    }
   ],
   "source": [
    "m4.score(x_test,y_test)"
   ]
  },
  {
   "cell_type": "code",
   "execution_count": 53,
   "id": "7df79482",
   "metadata": {},
   "outputs": [
    {
     "data": {
      "text/plain": [
       "0.416"
      ]
     },
     "execution_count": 53,
     "metadata": {},
     "output_type": "execute_result"
    }
   ],
   "source": [
    "m5.score(x_test,y_test)"
   ]
  },
  {
   "cell_type": "code",
   "execution_count": 55,
   "id": "9a75591e",
   "metadata": {},
   "outputs": [
    {
     "data": {
      "text/plain": [
       "0.208"
      ]
     },
     "execution_count": 55,
     "metadata": {},
     "output_type": "execute_result"
    }
   ],
   "source": [
    "m6.score(x_test,y_test)"
   ]
  },
  {
   "cell_type": "code",
   "execution_count": null,
   "id": "5a7a1a7d",
   "metadata": {},
   "outputs": [],
   "source": []
  }
 ],
 "metadata": {
  "kernelspec": {
   "display_name": "Python 3",
   "language": "python",
   "name": "python3"
  },
  "language_info": {
   "codemirror_mode": {
    "name": "ipython",
    "version": 3
   },
   "file_extension": ".py",
   "mimetype": "text/x-python",
   "name": "python",
   "nbconvert_exporter": "python",
   "pygments_lexer": "ipython3",
   "version": "3.8.8"
  }
 },
 "nbformat": 4,
 "nbformat_minor": 5
}
